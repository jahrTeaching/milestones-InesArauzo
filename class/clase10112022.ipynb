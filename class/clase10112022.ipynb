{
 "cells": [
  {
   "cell_type": "markdown",
   "metadata": {},
   "source": [
    "<b> Clase 10/11/2022</b>\n",
    "El copy da problemas, la solución es  o bien importar deepcopy de una libreria, o bien, (solución del flipao) hacerlo como en fortran:"
   ]
  },
  {
   "cell_type": "code",
   "execution_count": 3,
   "metadata": {},
   "outputs": [
    {
     "name": "stdout",
     "output_type": "stream",
     "text": [
      "B= [[1, 2], [3, 0]]\n",
      "C= [[1, 2], [3, 0]]\n",
      "D= [[1, 2], [3, 4]]\n",
      "E= [[10, 10], [10, 10]]\n"
     ]
    }
   ],
   "source": [
    "from copy import deepcopy\n",
    "A &= [[1,2],[3,4]]\n",
    "B = A\n",
    "C = A.copy()\n",
    "D = deepcopy(A)# solución libreria\n",
    "N, M = len(A), len (A[0])\n",
    "E = [[10 for i in range(N)] for j in range(M)]\n",
    "E[:][:] = A[:][:] \n",
    "A[1][1] = 0\n",
    "\n",
    "print(\"B=\", B)\n",
    "print(\"C=\", C)\n",
    "print(\"D=\", D)\n",
    "print(\"E=\", E)"
   ]
  },
  {
   "cell_type": "markdown",
   "metadata": {},
   "source": [
    "<br><b>GBS: Gragg-Burlish-Stoer</b></br>\n",
    "<br>Los Rk son unipaso y multietapa, y los GBS son esquemas uniupaso multimalla (como lo del V grid y todo esto).\n",
    "Tengo una malla inicial y la voy refinando. Para cada malla soluciono el problema (pej con un esquema leapfrog), y el esquemas va a ser lo único que me cambie es el esquema temporal y el $\\Delta t$</br>\n",
    "\n",
    "<br>L que me interesa es la solución en el punto final $U_{2L+1}$\n",
    "Con ello, para un nivel $l$ tendremos un paso $2l$:</br>\n",
    "\n",
    "\\begin {align}\n",
    "    v_0 &= U^n\\\\\n",
    "    v_1 &= v_0+ dt F_0\\\\\n",
    "    v_{j+1}&= v_{j} +2 dt F_j\\\\\n",
    "     \\text{Aqui hay un filtrado que es cosilla del Leapfrog}\\\\\n",
    "   v_{2l}*&= \\frac{1}{4} (v_{2l-1} + 2v_{2l} +v_{2l+1})\\\\\n",
    "\\end{align}\n",
    "<br>Lo filtro porque si no no habria un desarrollo en serie de taylor posible</br>\n",
    "\n",
    "<br>Decimos que $U_l &= v_{2l+1}* </br>\n",
    "\n",
    "<br>Y entonces para cada malla, la solución en el punto final desarrollado en serie de taylor sería</br>\n",
    "\n",
    "\\begin{align}\n",
    "    U(dt) &= a_0+ a_1dt^2 +a_2dt^4 +... a_q dt^{2q}\\\\\n",
    "    text{Cambiando dt a h (siendo }dt=h^2\\\\\n",
    "    U(h) &= a_0+ a_1h +a_2h^2 +... a_q h^{q}\\\\\n",
    "    U_1 &= a_0+ a_1h_1 +a_2h_1^2 +... a_q h_1^{q}\\\\\n",
    "    U_{q+1} &= a_0+ a_1h_{q+1} +a_2h_{q+1}^2 +... a_q h_{q+1}^{q}\\\\\n",
    "\\end {align}\n",
    "\n",
    "<br>Matricialmente queda una matriz de vandermonde (aka un rabo infumable que no se puede usar casi): uso interpoladores de Lagrange para evitarlo:</br>\n",
    "\\begin{align}\n",
    "    U(h) = \\sum_{j=1}^{q+1} U_j L_j(h)\\\\\n",
    "\\end {align}\n",
    "\n",
    "<br>Ahora quiero saber hasta que ivel tengo que bajar: comparo dos soluciones de dos niveles distintos: level q y level q+1:</br>\n",
    "\n",
    "\\begin{align}\n",
    "q.-& T^{n+1}&=&U(t_{n+1}) - U_{q}^{n+1} =k_2 h^{2q}\\\\\n",
    "\n",
    "q+1.-& T^{n+1}&=&U(t_{n+1}) - U_{q+1}^{n+1} =k_1 h^{2q+^2}\\\\\n",
    "\\end {align}\n",
    "<br>Restando:\n",
    "\\begin{align}\n",
    "    ||U_{q+1}^{n+1}-U_{q}^{n+1}|| = k_2 h^{2q} < \\text{tolerance}\n",
    "\\end {align}\n",
    "\\begin{equation}\n",
    "\n",
    "\\end {equation}\n"
   ]
  }
 ],
 "metadata": {
  "kernelspec": {
   "display_name": "Python 3.10.8 64-bit (microsoft store)",
   "language": "python",
   "name": "python3"
  },
  "language_info": {
   "codemirror_mode": {
    "name": "ipython",
    "version": 3
   },
   "file_extension": ".py",
   "mimetype": "text/x-python",
   "name": "python",
   "nbconvert_exporter": "python",
   "pygments_lexer": "ipython3",
   "version": "3.10.8"
  },
  "orig_nbformat": 4,
  "vscode": {
   "interpreter": {
    "hash": "565c4216cea6a16b1e68735ab500716c8ac46c7d727720598968537593a1c3d4"
   }
  }
 },
 "nbformat": 4,
 "nbformat_minor": 2
}
